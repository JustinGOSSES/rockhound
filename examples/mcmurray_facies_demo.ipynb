{
 "cells": [
  {
   "cell_type": "code",
   "execution_count": 1,
   "metadata": {},
   "outputs": [
    {
     "name": "stdout",
     "output_type": "stream",
     "text": [
      "/Users/justingosses/Code/rockhound\n"
     ]
    }
   ],
   "source": [
    "cd ..\n"
   ]
  },
  {
   "cell_type": "code",
   "execution_count": 2,
   "metadata": {},
   "outputs": [
    {
     "name": "stdout",
     "output_type": "stream",
     "text": [
      "AUTHORS.md            README.rst            requirements-dev.txt\r\n",
      "CITATION.rst          Untitled.ipynb        requirements.txt\r\n",
      "CODE_OF_CONDUCT.md    \u001b[34m__pycache__\u001b[m\u001b[m/          \u001b[34mrockhound\u001b[m\u001b[m/\r\n",
      "CONTRIBUTING.md       \u001b[34mbuild\u001b[m\u001b[m/                \u001b[34mrockhound.egg-info\u001b[m\u001b[m/\r\n",
      "LICENSE.txt           \u001b[34mdist\u001b[m\u001b[m/                 setup.cfg\r\n",
      "MAINTENANCE.md        \u001b[34mdoc\u001b[m\u001b[m/                  setup.py\r\n",
      "MANIFEST.in           environment.yml       versioneer.py\r\n",
      "Makefile              \u001b[34mexamples\u001b[m\u001b[m/\r\n"
     ]
    }
   ],
   "source": [
    "ls"
   ]
  },
  {
   "cell_type": "code",
   "execution_count": 3,
   "metadata": {},
   "outputs": [
    {
     "name": "stdout",
     "output_type": "stream",
     "text": [
      "fin <_io.TextIOWrapper name='/Users/justingosses/Code/rockhound/rockhound/registry.txt' mode='r' encoding='UTF-8'>\n",
      "linenum,line 0 ETOPO1_Ice_g_gmt4.grd.gz c241db385d89f3d0c22eec8138224db9f2ebee6a1b4d1ecb4ebc6a5743a28ec8 https://www.ngdc.noaa.gov/mgg/global/relief/ETOPO1/data/ice_surface/grid_registered/netcdf/ETOPO1_Ice_g_gmt4.grd.gz\n",
      "\n",
      "elements type =  <class 'list'>\n",
      "elements ['ETOPO1_Ice_g_gmt4.grd.gz', 'c241db385d89f3d0c22eec8138224db9f2ebee6a1b4d1ecb4ebc6a5743a28ec8', 'https://www.ngdc.noaa.gov/mgg/global/relief/ETOPO1/data/ice_surface/grid_registered/netcdf/ETOPO1_Ice_g_gmt4.grd.gz']\n",
      "linenum,line 1 ETOPO1_Bed_g_gmt4.grd.gz e5dd1e07c9039a966096d658976145b34a7006613ba32c7e898d26dd1dd3e1d9 https://www.ngdc.noaa.gov/mgg/global/relief/ETOPO1/data/bedrock/grid_registered/netcdf/ETOPO1_Bed_g_gmt4.grd.gz\n",
      "\n",
      "elements type =  <class 'list'>\n",
      "elements ['ETOPO1_Bed_g_gmt4.grd.gz', 'e5dd1e07c9039a966096d658976145b34a7006613ba32c7e898d26dd1dd3e1d9', 'https://www.ngdc.noaa.gov/mgg/global/relief/ETOPO1/data/bedrock/grid_registered/netcdf/ETOPO1_Bed_g_gmt4.grd.gz']\n",
      "linenum,line 2 PREM_1s.csv 71e5d8883e5ee0529c7d8f02c8e68d12c350e993bdbd106a3697c64fa3bf9faa https://ds.iris.edu/files/products/emc/data/PREM/PREM_1s.csv\n",
      "\n",
      "elements type =  <class 'list'>\n",
      "elements ['PREM_1s.csv', '71e5d8883e5ee0529c7d8f02c8e68d12c350e993bdbd106a3697c64fa3bf9faa', 'https://ds.iris.edu/files/products/emc/data/PREM/PREM_1s.csv']\n",
      "linenum,line 3 bedmap2_tiff.zip f4bb27ce05197e9d29e4249d64a947b93aab264c3b4e6cbf49d6b339fb6c67fe https://secure.antarctica.ac.uk/data/bedmap2/bedmap2_tiff.zip\n",
      "\n",
      "elements type =  <class 'list'>\n",
      "elements ['bedmap2_tiff.zip', 'f4bb27ce05197e9d29e4249d64a947b93aab264c3b4e6cbf49d6b339fb6c67fe', 'https://secure.antarctica.ac.uk/data/bedmap2/bedmap2_tiff.zip']\n",
      "linenum,line 4 age.3.2.nc.bz2 49003831db78f7bb044532daf31fdc49218f75876668ee0c96877f383214b827 https://www.ngdc.noaa.gov/mgg/ocean_age/data/2008/grids/age/age.3.2.nc.bz2\n",
      "\n",
      "elements type =  <class 'list'>\n",
      "elements ['age.3.2.nc.bz2', '49003831db78f7bb044532daf31fdc49218f75876668ee0c96877f383214b827', 'https://www.ngdc.noaa.gov/mgg/ocean_age/data/2008/grids/age/age.3.2.nc.bz2']\n",
      "linenum,line 5 age.3.6.nc.bz2 c99358e4a980be15f05df71506d9337dc760d32e5907f9526bc8135224fc1f81 https://www.ngdc.noaa.gov/mgg/ocean_age/data/2008/grids/age/age.3.6.nc.bz2\n",
      "\n",
      "elements type =  <class 'list'>\n",
      "elements ['age.3.6.nc.bz2', 'c99358e4a980be15f05df71506d9337dc760d32e5907f9526bc8135224fc1f81', 'https://www.ngdc.noaa.gov/mgg/ocean_age/data/2008/grids/age/age.3.6.nc.bz2']\n",
      "linenum,line 6 ageerror.3.2.nc.bz2 fd599a02488912e6d3bc53fc1e658f3d116a893201c0c9fb5e496c4020279a35 https://www.ngdc.noaa.gov/mgg/ocean_age/data/2008/grids/age_error/ageerror.3.2.nc.bz2\n",
      "\n",
      "elements type =  <class 'list'>\n",
      "elements ['ageerror.3.2.nc.bz2', 'fd599a02488912e6d3bc53fc1e658f3d116a893201c0c9fb5e496c4020279a35', 'https://www.ngdc.noaa.gov/mgg/ocean_age/data/2008/grids/age_error/ageerror.3.2.nc.bz2']\n",
      "linenum,line 7 ageerror.3.6.nc.bz2 15a2542717d30f24feeb2ea9d5d73d754b30a3fc92bbf1b704b3ba23d2766d1b https://www.ngdc.noaa.gov/mgg/ocean_age/data/2008/grids/age_error/ageerror.3.6.nc.bz2\n",
      "\n",
      "elements type =  <class 'list'>\n",
      "elements ['ageerror.3.6.nc.bz2', '15a2542717d30f24feeb2ea9d5d73d754b30a3fc92bbf1b704b3ba23d2766d1b', 'https://www.ngdc.noaa.gov/mgg/ocean_age/data/2008/grids/age_error/ageerror.3.6.nc.bz2']\n",
      "linenum,line 8 mcmurray_facies_dataframe.h5.zip c567f581f1a2c93718c8ad26ea02ea5b3d98491c1578c219095549c01c31d4dc https://github.com/JustinGOSSES/McMurray-Wabiskaw-preprocessed-datasets/raw/master/processed_datasets/mcmurray_facies_dataframe.h5.zip\n",
      "elements type =  <class 'list'>\n",
      "elements ['mcmurray_facies_dataframe.h5.zip', 'c567f581f1a2c93718c8ad26ea02ea5b3d98491c1578c219095549c01c31d4dc', 'https://github.com/JustinGOSSES/McMurray-Wabiskaw-preprocessed-datasets/raw/master/processed_datasets/mcmurray_facies_dataframe.h5.zip']\n"
     ]
    }
   ],
   "source": [
    "import rockhound as rh"
   ]
  },
  {
   "cell_type": "code",
   "execution_count": 4,
   "metadata": {},
   "outputs": [
    {
     "name": "stdout",
     "output_type": "stream",
     "text": [
      "Python 3.7.3\r\n"
     ]
    }
   ],
   "source": [
    "!python --version"
   ]
  },
  {
   "cell_type": "code",
   "execution_count": 5,
   "metadata": {},
   "outputs": [],
   "source": [
    "import rockhound as rh\n",
    "import matplotlib.pyplot as plt"
   ]
  },
  {
   "cell_type": "code",
   "execution_count": 6,
   "metadata": {},
   "outputs": [
    {
     "name": "stderr",
     "output_type": "stream",
     "text": [
      "/Users/justingosses/anaconda/envs/rockhound/lib/python3.7/site-packages/pooch-0.5.1-py3.7.egg/pooch/core.py:352: UserWarning: Updating data file 'mcmurray_facies_dataframe.h5.zip' from remote data store 'https://github.com/JustinGOSSES/McMurray-Wabiskaw-preprocessed-datasets/raw/master/processed_datasets/mcmurray_facies_dataframe.h5.zip' to '/Users/justingosses/Library/Caches/rockhound'.\n",
      "  action_word[action], fname, self.get_url(fname), str(self.path)\n",
      "/Users/justingosses/anaconda/envs/rockhound/lib/python3.7/site-packages/pooch-0.5.1-py3.7.egg/pooch/processors.py:133: UserWarning: Unzipping contents of '/Users/justingosses/Library/Caches/rockhound/mcmurray_facies_dataframe.h5.zip' to '/Users/justingosses/Library/Caches/rockhound/mcmurray_facies_dataframe.h5.zip.unzip'\n",
      "  warn(\"Unzipping contents of '{}' to '{}'\".format(fname, extract_dir))\n"
     ]
    }
   ],
   "source": [
    "data = rh.fetch_mcmurray_facies()"
   ]
  },
  {
   "cell_type": "code",
   "execution_count": 7,
   "metadata": {},
   "outputs": [
    {
     "data": {
      "text/html": [
       "<div>\n",
       "<style scoped>\n",
       "    .dataframe tbody tr th:only-of-type {\n",
       "        vertical-align: middle;\n",
       "    }\n",
       "\n",
       "    .dataframe tbody tr th {\n",
       "        vertical-align: top;\n",
       "    }\n",
       "\n",
       "    .dataframe thead th {\n",
       "        text-align: right;\n",
       "    }\n",
       "</style>\n",
       "<table border=\"1\" class=\"dataframe\">\n",
       "  <thead>\n",
       "    <tr style=\"text-align: right;\">\n",
       "      <th></th>\n",
       "      <th>CALI</th>\n",
       "      <th>COND</th>\n",
       "      <th>DELT</th>\n",
       "      <th>DEPT</th>\n",
       "      <th>DPHI</th>\n",
       "      <th>DT</th>\n",
       "      <th>GR</th>\n",
       "      <th>ILD</th>\n",
       "      <th>ILM</th>\n",
       "      <th>NPHI</th>\n",
       "      <th>...</th>\n",
       "      <th>lat</th>\n",
       "      <th>lng</th>\n",
       "      <th>Depth</th>\n",
       "      <th>LithID</th>\n",
       "      <th>W_Tar</th>\n",
       "      <th>SW</th>\n",
       "      <th>VSH</th>\n",
       "      <th>PHI</th>\n",
       "      <th>RW</th>\n",
       "      <th>lithName</th>\n",
       "    </tr>\n",
       "  </thead>\n",
       "  <tbody>\n",
       "    <tr>\n",
       "      <th>1632</th>\n",
       "      <td>NaN</td>\n",
       "      <td>NaN</td>\n",
       "      <td>NaN</td>\n",
       "      <td>405.09</td>\n",
       "      <td>0.153</td>\n",
       "      <td>NaN</td>\n",
       "      <td>77.860</td>\n",
       "      <td>11.845</td>\n",
       "      <td>NaN</td>\n",
       "      <td>0.458</td>\n",
       "      <td>...</td>\n",
       "      <td>56.015445</td>\n",
       "      <td>-111.333199</td>\n",
       "      <td>405.09</td>\n",
       "      <td>4.0</td>\n",
       "      <td>0.054</td>\n",
       "      <td>0.580</td>\n",
       "      <td>0.131</td>\n",
       "      <td>0.276</td>\n",
       "      <td>0.5540</td>\n",
       "      <td>Shale</td>\n",
       "    </tr>\n",
       "    <tr>\n",
       "      <th>1633</th>\n",
       "      <td>NaN</td>\n",
       "      <td>NaN</td>\n",
       "      <td>NaN</td>\n",
       "      <td>405.34</td>\n",
       "      <td>0.071</td>\n",
       "      <td>NaN</td>\n",
       "      <td>75.765</td>\n",
       "      <td>13.308</td>\n",
       "      <td>NaN</td>\n",
       "      <td>0.407</td>\n",
       "      <td>...</td>\n",
       "      <td>56.015445</td>\n",
       "      <td>-111.333199</td>\n",
       "      <td>405.34</td>\n",
       "      <td>4.0</td>\n",
       "      <td>0.019</td>\n",
       "      <td>0.787</td>\n",
       "      <td>0.096</td>\n",
       "      <td>0.200</td>\n",
       "      <td>0.5530</td>\n",
       "      <td>Shale</td>\n",
       "    </tr>\n",
       "    <tr>\n",
       "      <th>1634</th>\n",
       "      <td>NaN</td>\n",
       "      <td>NaN</td>\n",
       "      <td>NaN</td>\n",
       "      <td>405.59</td>\n",
       "      <td>0.047</td>\n",
       "      <td>NaN</td>\n",
       "      <td>75.085</td>\n",
       "      <td>13.621</td>\n",
       "      <td>NaN</td>\n",
       "      <td>0.308</td>\n",
       "      <td>...</td>\n",
       "      <td>56.015445</td>\n",
       "      <td>-111.333199</td>\n",
       "      <td>405.59</td>\n",
       "      <td>4.0</td>\n",
       "      <td>0.000</td>\n",
       "      <td>1.000</td>\n",
       "      <td>0.085</td>\n",
       "      <td>0.152</td>\n",
       "      <td>0.5530</td>\n",
       "      <td>Shale</td>\n",
       "    </tr>\n",
       "    <tr>\n",
       "      <th>1635</th>\n",
       "      <td>NaN</td>\n",
       "      <td>NaN</td>\n",
       "      <td>NaN</td>\n",
       "      <td>405.84</td>\n",
       "      <td>0.053</td>\n",
       "      <td>NaN</td>\n",
       "      <td>76.870</td>\n",
       "      <td>13.005</td>\n",
       "      <td>NaN</td>\n",
       "      <td>0.264</td>\n",
       "      <td>...</td>\n",
       "      <td>56.015445</td>\n",
       "      <td>-111.333199</td>\n",
       "      <td>405.84</td>\n",
       "      <td>4.0</td>\n",
       "      <td>0.000</td>\n",
       "      <td>1.000</td>\n",
       "      <td>0.114</td>\n",
       "      <td>0.134</td>\n",
       "      <td>0.5530</td>\n",
       "      <td>Shale</td>\n",
       "    </tr>\n",
       "    <tr>\n",
       "      <th>1636</th>\n",
       "      <td>NaN</td>\n",
       "      <td>NaN</td>\n",
       "      <td>NaN</td>\n",
       "      <td>406.09</td>\n",
       "      <td>0.072</td>\n",
       "      <td>NaN</td>\n",
       "      <td>82.159</td>\n",
       "      <td>11.695</td>\n",
       "      <td>NaN</td>\n",
       "      <td>0.289</td>\n",
       "      <td>...</td>\n",
       "      <td>56.015445</td>\n",
       "      <td>-111.333199</td>\n",
       "      <td>406.09</td>\n",
       "      <td>4.0</td>\n",
       "      <td>0.000</td>\n",
       "      <td>1.000</td>\n",
       "      <td>0.203</td>\n",
       "      <td>0.119</td>\n",
       "      <td>0.5530</td>\n",
       "      <td>Shale</td>\n",
       "    </tr>\n",
       "  </tbody>\n",
       "</table>\n",
       "<p>5 rows × 28 columns</p>\n",
       "</div>"
      ],
      "text/plain": [
       "      CALI  COND  DELT    DEPT   DPHI  DT      GR     ILD  ILM   NPHI  ...  \\\n",
       "1632   NaN   NaN   NaN  405.09  0.153 NaN  77.860  11.845  NaN  0.458  ...   \n",
       "1633   NaN   NaN   NaN  405.34  0.071 NaN  75.765  13.308  NaN  0.407  ...   \n",
       "1634   NaN   NaN   NaN  405.59  0.047 NaN  75.085  13.621  NaN  0.308  ...   \n",
       "1635   NaN   NaN   NaN  405.84  0.053 NaN  76.870  13.005  NaN  0.264  ...   \n",
       "1636   NaN   NaN   NaN  406.09  0.072 NaN  82.159  11.695  NaN  0.289  ...   \n",
       "\n",
       "            lat         lng   Depth  LithID  W_Tar     SW    VSH    PHI  \\\n",
       "1632  56.015445 -111.333199  405.09     4.0  0.054  0.580  0.131  0.276   \n",
       "1633  56.015445 -111.333199  405.34     4.0  0.019  0.787  0.096  0.200   \n",
       "1634  56.015445 -111.333199  405.59     4.0  0.000  1.000  0.085  0.152   \n",
       "1635  56.015445 -111.333199  405.84     4.0  0.000  1.000  0.114  0.134   \n",
       "1636  56.015445 -111.333199  406.09     4.0  0.000  1.000  0.203  0.119   \n",
       "\n",
       "            RW  lithName  \n",
       "1632    0.5540     Shale  \n",
       "1633    0.5530     Shale  \n",
       "1634    0.5530     Shale  \n",
       "1635    0.5530     Shale  \n",
       "1636    0.5530     Shale  \n",
       "\n",
       "[5 rows x 28 columns]"
      ]
     },
     "execution_count": 7,
     "metadata": {},
     "output_type": "execute_result"
    }
   ],
   "source": [
    "data.head()"
   ]
  },
  {
   "cell_type": "code",
   "execution_count": 8,
   "metadata": {},
   "outputs": [
    {
     "data": {
      "text/plain": [
       "Index(['CALI', 'COND', 'DELT', 'DEPT', 'DPHI', 'DT', 'GR', 'ILD', 'ILM',\n",
       "       'NPHI', 'PHID', 'RHOB', 'SFL', 'SFLU', 'SN', 'SP', 'UWI', 'SitID',\n",
       "       'lat', 'lng', 'Depth', 'LithID', 'W_Tar', 'SW', 'VSH', 'PHI', 'RW',\n",
       "       'lithName'],\n",
       "      dtype='object')"
      ]
     },
     "execution_count": 8,
     "metadata": {},
     "output_type": "execute_result"
    }
   ],
   "source": [
    "data.columns"
   ]
  },
  {
   "cell_type": "code",
   "execution_count": 9,
   "metadata": {},
   "outputs": [
    {
     "data": {
      "image/png": "[encoded data removed]",
      "text/plain": [
       "<Figure size 432x288 with 1 Axes>"
      ]
     },
     "metadata": {
      "needs_background": "light"
     },
     "output_type": "display_data"
    }
   ],
   "source": [
    "data.plot(kind='scatter',x='GR',y='DPHI',color='red')\n",
    "plt.show()"
   ]
  },
  {
   "cell_type": "code",
   "execution_count": 10,
   "metadata": {},
   "outputs": [
    {
     "data": {
      "image/png": "[encoded data removed]",
      "text/plain": [
       "<Figure size 432x288 with 1 Axes>"
      ]
     },
     "metadata": {
      "needs_background": "light"
     },
     "output_type": "display_data"
    }
   ],
   "source": [
    "data.plot(kind='scatter',x='GR',y='lng',color='red')\n",
    "plt.show()"
   ]
  },
  {
   "cell_type": "code",
   "execution_count": 11,
   "metadata": {},
   "outputs": [
    {
     "data": {
      "text/plain": [
       "328204"
      ]
     },
     "execution_count": 11,
     "metadata": {},
     "output_type": "execute_result"
    }
   ],
   "source": [
    "len(data)"
   ]
  },
  {
   "cell_type": "code",
   "execution_count": null,
   "metadata": {},
   "outputs": [],
   "source": []
  },
  {
   "cell_type": "code",
   "execution_count": null,
   "metadata": {},
   "outputs": [],
   "source": []
  }
 ],
 "metadata": {
  "kernelspec": {
   "display_name": "Python 3",
   "language": "python",
   "name": "python3"
  },
  "language_info": {
   "codemirror_mode": {
    "name": "ipython",
    "version": 3
   },
   "file_extension": ".py",
   "mimetype": "text/x-python",
   "name": "python",
   "nbconvert_exporter": "python",
   "pygments_lexer": "ipython3",
   "version": "3.7.3"
  }
 },
 "nbformat": 4,
 "nbformat_minor": 2
}
