{
 "cells": [
  {
   "cell_type": "code",
   "execution_count": 1,
   "metadata": {},
   "outputs": [
    {
     "name": "stdout",
     "output_type": "stream",
     "text": [
      "/Users/justingosses/Code/rockhound\n"
     ]
    }
   ],
   "source": [
    "cd ..\n"
   ]
  },
  {
   "cell_type": "code",
   "execution_count": 2,
   "metadata": {},
   "outputs": [
    {
     "name": "stdout",
     "output_type": "stream",
     "text": [
      "AUTHORS.md            README.rst            requirements.txt\r\n",
      "CITATION.rst          \u001b[34m__pycache__\u001b[m\u001b[m/          \u001b[34mrockhound\u001b[m\u001b[m/\r\n",
      "CODE_OF_CONDUCT.md    \u001b[34mbuild\u001b[m\u001b[m/                \u001b[34mrockhound.egg-info\u001b[m\u001b[m/\r\n",
      "CONTRIBUTING.md       \u001b[34mdist\u001b[m\u001b[m/                 setup.cfg\r\n",
      "LICENSE.txt           \u001b[34mdoc\u001b[m\u001b[m/                  setup.py\r\n",
      "MAINTENANCE.md        environment.yml       versioneer.py\r\n",
      "MANIFEST.in           \u001b[34mexamples\u001b[m\u001b[m/\r\n",
      "Makefile              requirements-dev.txt\r\n"
     ]
    }
   ],
   "source": [
    "ls"
   ]
  },
  {
   "cell_type": "code",
   "execution_count": 3,
   "metadata": {},
   "outputs": [
    {
     "name": "stdout",
     "output_type": "stream",
     "text": [
      "AUTHORS.md            README.rst            requirements.txt\r\n",
      "CITATION.rst          \u001b[34m__pycache__\u001b[m\u001b[m/          \u001b[34mrockhound\u001b[m\u001b[m/\r\n",
      "CODE_OF_CONDUCT.md    \u001b[34mbuild\u001b[m\u001b[m/                \u001b[34mrockhound.egg-info\u001b[m\u001b[m/\r\n",
      "CONTRIBUTING.md       \u001b[34mdist\u001b[m\u001b[m/                 setup.cfg\r\n",
      "LICENSE.txt           \u001b[34mdoc\u001b[m\u001b[m/                  setup.py\r\n",
      "MAINTENANCE.md        environment.yml       versioneer.py\r\n",
      "MANIFEST.in           \u001b[34mexamples\u001b[m\u001b[m/\r\n",
      "Makefile              requirements-dev.txt\r\n"
     ]
    }
   ],
   "source": [
    "ls"
   ]
  },
  {
   "cell_type": "code",
   "execution_count": 4,
   "metadata": {},
   "outputs": [
    {
     "name": "stdout",
     "output_type": "stream",
     "text": [
      "/Users/justingosses/Code/rockhound/rockhound\n"
     ]
    }
   ],
   "source": [
    "cd rockhound"
   ]
  },
  {
   "cell_type": "code",
   "execution_count": 3,
   "metadata": {},
   "outputs": [
    {
     "name": "stdout",
     "output_type": "stream",
     "text": [
      "AUTHORS.md            README.rst            requirements.txt\r\n",
      "CITATION.rst          \u001b[34m__pycache__\u001b[m\u001b[m/          \u001b[34mrockhound\u001b[m\u001b[m/\r\n",
      "CODE_OF_CONDUCT.md    \u001b[34mbuild\u001b[m\u001b[m/                \u001b[34mrockhound.egg-info\u001b[m\u001b[m/\r\n",
      "CONTRIBUTING.md       \u001b[34mdist\u001b[m\u001b[m/                 setup.cfg\r\n",
      "LICENSE.txt           \u001b[34mdoc\u001b[m\u001b[m/                  setup.py\r\n",
      "MAINTENANCE.md        environment.yml       versioneer.py\r\n",
      "MANIFEST.in           \u001b[34mexamples\u001b[m\u001b[m/\r\n",
      "Makefile              requirements-dev.txt\r\n"
     ]
    }
   ],
   "source": [
    "ls"
   ]
  },
  {
   "cell_type": "code",
   "execution_count": 4,
   "metadata": {},
   "outputs": [
    {
     "ename": "OSError",
     "evalue": "Expected 2 or 3 elements in line 9 but got 0.",
     "output_type": "error",
     "traceback": [
      "\u001b[0;31m---------------------------------------------------------------------------\u001b[0m",
      "\u001b[0;31mOSError\u001b[0m                                   Traceback (most recent call last)",
      "\u001b[0;32m<ipython-input-4-cd6a10f5da64>\u001b[0m in \u001b[0;36m<module>\u001b[0;34m()\u001b[0m\n\u001b[0;32m----> 1\u001b[0;31m \u001b[0;32mimport\u001b[0m \u001b[0mrockhound\u001b[0m \u001b[0;32mas\u001b[0m \u001b[0mrh\u001b[0m\u001b[0;34m\u001b[0m\u001b[0m\n\u001b[0m",
      "\u001b[0;32m~/Code/rockhound/rockhound/__init__.py\u001b[0m in \u001b[0;36m<module>\u001b[0;34m()\u001b[0m\n\u001b[1;32m      2\u001b[0m \u001b[0;31m# Import functions/classes to make the public API\u001b[0m\u001b[0;34m\u001b[0m\u001b[0;34m\u001b[0m\u001b[0m\n\u001b[1;32m      3\u001b[0m \u001b[0;32mfrom\u001b[0m \u001b[0;34m.\u001b[0m \u001b[0;32mimport\u001b[0m \u001b[0mversion\u001b[0m\u001b[0;34m\u001b[0m\u001b[0m\n\u001b[0;32m----> 4\u001b[0;31m \u001b[0;32mfrom\u001b[0m \u001b[0;34m.\u001b[0m\u001b[0mregistry\u001b[0m \u001b[0;32mimport\u001b[0m \u001b[0mdata_location\u001b[0m\u001b[0;34m\u001b[0m\u001b[0m\n\u001b[0m\u001b[1;32m      5\u001b[0m \u001b[0;32mfrom\u001b[0m \u001b[0;34m.\u001b[0m\u001b[0metopo1\u001b[0m \u001b[0;32mimport\u001b[0m \u001b[0mfetch_etopo1\u001b[0m\u001b[0;34m\u001b[0m\u001b[0m\n\u001b[1;32m      6\u001b[0m \u001b[0;32mfrom\u001b[0m \u001b[0;34m.\u001b[0m\u001b[0mprem\u001b[0m \u001b[0;32mimport\u001b[0m \u001b[0mfetch_prem\u001b[0m\u001b[0;34m\u001b[0m\u001b[0m\n",
      "\u001b[0;32m~/Code/rockhound/rockhound/registry.py\u001b[0m in \u001b[0;36m<module>\u001b[0;34m()\u001b[0m\n\u001b[1;32m     10\u001b[0m     \u001b[0mpath\u001b[0m\u001b[0;34m=\u001b[0m\u001b[0mpooch\u001b[0m\u001b[0;34m.\u001b[0m\u001b[0mos_cache\u001b[0m\u001b[0;34m(\u001b[0m\u001b[0;34m\"rockhound\"\u001b[0m\u001b[0;34m)\u001b[0m\u001b[0;34m,\u001b[0m \u001b[0mbase_url\u001b[0m\u001b[0;34m=\u001b[0m\u001b[0;34m\"\"\u001b[0m\u001b[0;34m,\u001b[0m \u001b[0menv\u001b[0m\u001b[0;34m=\u001b[0m\u001b[0;34m\"ROCKHOUND_DATA_DIR\"\u001b[0m\u001b[0;34m\u001b[0m\u001b[0m\n\u001b[1;32m     11\u001b[0m )\n\u001b[0;32m---> 12\u001b[0;31m \u001b[0mREGISTRY\u001b[0m\u001b[0;34m.\u001b[0m\u001b[0mload_registry\u001b[0m\u001b[0;34m(\u001b[0m\u001b[0mos\u001b[0m\u001b[0;34m.\u001b[0m\u001b[0mpath\u001b[0m\u001b[0;34m.\u001b[0m\u001b[0mjoin\u001b[0m\u001b[0;34m(\u001b[0m\u001b[0mos\u001b[0m\u001b[0;34m.\u001b[0m\u001b[0mpath\u001b[0m\u001b[0;34m.\u001b[0m\u001b[0mdirname\u001b[0m\u001b[0;34m(\u001b[0m\u001b[0m__file__\u001b[0m\u001b[0;34m)\u001b[0m\u001b[0;34m,\u001b[0m \u001b[0;34m\"registry.txt\"\u001b[0m\u001b[0;34m)\u001b[0m\u001b[0;34m)\u001b[0m\u001b[0;34m\u001b[0m\u001b[0m\n\u001b[0m\u001b[1;32m     13\u001b[0m \u001b[0;34m\u001b[0m\u001b[0m\n\u001b[1;32m     14\u001b[0m \u001b[0;34m\u001b[0m\u001b[0m\n",
      "\u001b[0;32m~/anaconda/lib/python3.5/site-packages/pooch/core.py\u001b[0m in \u001b[0;36mload_registry\u001b[0;34m(self, fname)\u001b[0m\n\u001b[1;32m    348\u001b[0m                     raise IOError(\n\u001b[1;32m    349\u001b[0m                         \"Expected 2 or 3 elements in line {} but got {}.\".format(\n\u001b[0;32m--> 350\u001b[0;31m                             \u001b[0mlinenum\u001b[0m\u001b[0;34m,\u001b[0m \u001b[0mlen\u001b[0m\u001b[0;34m(\u001b[0m\u001b[0melements\u001b[0m\u001b[0;34m)\u001b[0m\u001b[0;34m\u001b[0m\u001b[0m\n\u001b[0m\u001b[1;32m    351\u001b[0m                         )\n\u001b[1;32m    352\u001b[0m                     )\n",
      "\u001b[0;31mOSError\u001b[0m: Expected 2 or 3 elements in line 9 but got 0."
     ]
    }
   ],
   "source": [
    "import rockhound as rh"
   ]
  },
  {
   "cell_type": "code",
   "execution_count": 7,
   "metadata": {},
   "outputs": [
    {
     "ename": "OSError",
     "evalue": "Expected 2 or 3 elements in line 9 but got 0.",
     "output_type": "error",
     "traceback": [
      "\u001b[0;31m---------------------------------------------------------------------------\u001b[0m",
      "\u001b[0;31mOSError\u001b[0m                                   Traceback (most recent call last)",
      "\u001b[0;32m<ipython-input-7-6cb58c40ae68>\u001b[0m in \u001b[0;36m<module>\u001b[0;34m()\u001b[0m\n\u001b[0;32m----> 1\u001b[0;31m \u001b[0;32mfrom\u001b[0m \u001b[0mrockhound\u001b[0m \u001b[0;32mimport\u001b[0m \u001b[0mbedmap2\u001b[0m\u001b[0;34m\u001b[0m\u001b[0m\n\u001b[0m",
      "\u001b[0;32m~/Code/rockhound/rockhound/__init__.py\u001b[0m in \u001b[0;36m<module>\u001b[0;34m()\u001b[0m\n\u001b[1;32m      2\u001b[0m \u001b[0;31m# Import functions/classes to make the public API\u001b[0m\u001b[0;34m\u001b[0m\u001b[0;34m\u001b[0m\u001b[0m\n\u001b[1;32m      3\u001b[0m \u001b[0;32mfrom\u001b[0m \u001b[0;34m.\u001b[0m \u001b[0;32mimport\u001b[0m \u001b[0mversion\u001b[0m\u001b[0;34m\u001b[0m\u001b[0m\n\u001b[0;32m----> 4\u001b[0;31m \u001b[0;32mfrom\u001b[0m \u001b[0;34m.\u001b[0m\u001b[0mregistry\u001b[0m \u001b[0;32mimport\u001b[0m \u001b[0mdata_location\u001b[0m\u001b[0;34m\u001b[0m\u001b[0m\n\u001b[0m\u001b[1;32m      5\u001b[0m \u001b[0;32mfrom\u001b[0m \u001b[0;34m.\u001b[0m\u001b[0metopo1\u001b[0m \u001b[0;32mimport\u001b[0m \u001b[0mfetch_etopo1\u001b[0m\u001b[0;34m\u001b[0m\u001b[0m\n\u001b[1;32m      6\u001b[0m \u001b[0;32mfrom\u001b[0m \u001b[0;34m.\u001b[0m\u001b[0mprem\u001b[0m \u001b[0;32mimport\u001b[0m \u001b[0mfetch_prem\u001b[0m\u001b[0;34m\u001b[0m\u001b[0m\n",
      "\u001b[0;32m~/Code/rockhound/rockhound/registry.py\u001b[0m in \u001b[0;36m<module>\u001b[0;34m()\u001b[0m\n\u001b[1;32m     10\u001b[0m     \u001b[0mpath\u001b[0m\u001b[0;34m=\u001b[0m\u001b[0mpooch\u001b[0m\u001b[0;34m.\u001b[0m\u001b[0mos_cache\u001b[0m\u001b[0;34m(\u001b[0m\u001b[0;34m\"rockhound\"\u001b[0m\u001b[0;34m)\u001b[0m\u001b[0;34m,\u001b[0m \u001b[0mbase_url\u001b[0m\u001b[0;34m=\u001b[0m\u001b[0;34m\"\"\u001b[0m\u001b[0;34m,\u001b[0m \u001b[0menv\u001b[0m\u001b[0;34m=\u001b[0m\u001b[0;34m\"ROCKHOUND_DATA_DIR\"\u001b[0m\u001b[0;34m\u001b[0m\u001b[0m\n\u001b[1;32m     11\u001b[0m )\n\u001b[0;32m---> 12\u001b[0;31m \u001b[0mREGISTRY\u001b[0m\u001b[0;34m.\u001b[0m\u001b[0mload_registry\u001b[0m\u001b[0;34m(\u001b[0m\u001b[0mos\u001b[0m\u001b[0;34m.\u001b[0m\u001b[0mpath\u001b[0m\u001b[0;34m.\u001b[0m\u001b[0mjoin\u001b[0m\u001b[0;34m(\u001b[0m\u001b[0mos\u001b[0m\u001b[0;34m.\u001b[0m\u001b[0mpath\u001b[0m\u001b[0;34m.\u001b[0m\u001b[0mdirname\u001b[0m\u001b[0;34m(\u001b[0m\u001b[0m__file__\u001b[0m\u001b[0;34m)\u001b[0m\u001b[0;34m,\u001b[0m \u001b[0;34m\"registry.txt\"\u001b[0m\u001b[0;34m)\u001b[0m\u001b[0;34m)\u001b[0m\u001b[0;34m\u001b[0m\u001b[0m\n\u001b[0m\u001b[1;32m     13\u001b[0m \u001b[0;34m\u001b[0m\u001b[0m\n\u001b[1;32m     14\u001b[0m \u001b[0;34m\u001b[0m\u001b[0m\n",
      "\u001b[0;32m~/anaconda/lib/python3.5/site-packages/pooch/core.py\u001b[0m in \u001b[0;36mload_registry\u001b[0;34m(self, fname)\u001b[0m\n\u001b[1;32m    348\u001b[0m                     raise IOError(\n\u001b[1;32m    349\u001b[0m                         \"Expected 2 or 3 elements in line {} but got {}.\".format(\n\u001b[0;32m--> 350\u001b[0;31m                             \u001b[0mlinenum\u001b[0m\u001b[0;34m,\u001b[0m \u001b[0mlen\u001b[0m\u001b[0;34m(\u001b[0m\u001b[0melements\u001b[0m\u001b[0;34m)\u001b[0m\u001b[0;34m\u001b[0m\u001b[0m\n\u001b[0m\u001b[1;32m    351\u001b[0m                         )\n\u001b[1;32m    352\u001b[0m                     )\n",
      "\u001b[0;31mOSError\u001b[0m: Expected 2 or 3 elements in line 9 but got 0."
     ]
    }
   ],
   "source": [
    "from rockhound import bedmap2 "
   ]
  },
  {
   "cell_type": "code",
   "execution_count": null,
   "metadata": {
    "collapsed": true
   },
   "outputs": [],
   "source": []
  },
  {
   "cell_type": "code",
   "execution_count": 7,
   "metadata": {},
   "outputs": [
    {
     "ename": "ImportError",
     "evalue": "No module named 'rockhound'",
     "output_type": "error",
     "traceback": [
      "\u001b[0;31m---------------------------------------------------------------------------\u001b[0m",
      "\u001b[0;31mImportError\u001b[0m                               Traceback (most recent call last)",
      "\u001b[0;32m<ipython-input-7-cd6a10f5da64>\u001b[0m in \u001b[0;36m<module>\u001b[0;34m()\u001b[0m\n\u001b[0;32m----> 1\u001b[0;31m \u001b[0;32mimport\u001b[0m \u001b[0mrockhound\u001b[0m \u001b[0;32mas\u001b[0m \u001b[0mrh\u001b[0m\u001b[0;34m\u001b[0m\u001b[0m\n\u001b[0m",
      "\u001b[0;31mImportError\u001b[0m: No module named 'rockhound'"
     ]
    }
   ],
   "source": [
    "import rockhound as rh"
   ]
  },
  {
   "cell_type": "code",
   "execution_count": null,
   "metadata": {
    "collapsed": true
   },
   "outputs": [],
   "source": []
  }
 ],
 "metadata": {
  "kernelspec": {
   "display_name": "Python 3",
   "language": "python",
   "name": "python3"
  },
  "language_info": {
   "codemirror_mode": {
    "name": "ipython",
    "version": 3
   },
   "file_extension": ".py",
   "mimetype": "text/x-python",
   "name": "python",
   "nbconvert_exporter": "python",
   "pygments_lexer": "ipython3",
   "version": "3.5.2"
  }
 },
 "nbformat": 4,
 "nbformat_minor": 2
}
