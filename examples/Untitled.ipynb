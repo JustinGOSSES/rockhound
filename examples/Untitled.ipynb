{
 "cells": [
  {
   "cell_type": "code",
   "execution_count": 1,
   "metadata": {},
   "outputs": [
    {
     "name": "stdout",
     "output_type": "stream",
     "text": [
      "/Users/justingosses/Code/rockhound\n"
     ]
    }
   ],
   "source": [
    "cd ..\n"
   ]
  },
  {
   "cell_type": "code",
   "execution_count": 2,
   "metadata": {},
   "outputs": [
    {
     "name": "stdout",
     "output_type": "stream",
     "text": [
      "AUTHORS.md            README.rst            requirements-dev.txt\r\n",
      "CITATION.rst          Untitled.ipynb        requirements.txt\r\n",
      "CODE_OF_CONDUCT.md    \u001b[34m__pycache__\u001b[m\u001b[m/          \u001b[34mrockhound\u001b[m\u001b[m/\r\n",
      "CONTRIBUTING.md       \u001b[34mbuild\u001b[m\u001b[m/                \u001b[34mrockhound.egg-info\u001b[m\u001b[m/\r\n",
      "LICENSE.txt           \u001b[34mdist\u001b[m\u001b[m/                 setup.cfg\r\n",
      "MAINTENANCE.md        \u001b[34mdoc\u001b[m\u001b[m/                  setup.py\r\n",
      "MANIFEST.in           environment.yml       versioneer.py\r\n",
      "Makefile              \u001b[34mexamples\u001b[m\u001b[m/\r\n"
     ]
    }
   ],
   "source": [
    "ls"
   ]
  },
  {
   "cell_type": "code",
   "execution_count": 3,
   "metadata": {},
   "outputs": [
    {
     "name": "stdout",
     "output_type": "stream",
     "text": [
      "fin <_io.TextIOWrapper name='/Users/justingosses/Code/rockhound/rockhound/registry.txt' mode='r' encoding='UTF-8'>\n",
      "linenum,line 0 ETOPO1_Ice_g_gmt4.grd.gz c241db385d89f3d0c22eec8138224db9f2ebee6a1b4d1ecb4ebc6a5743a28ec8 https://www.ngdc.noaa.gov/mgg/global/relief/ETOPO1/data/ice_surface/grid_registered/netcdf/ETOPO1_Ice_g_gmt4.grd.gz\n",
      "\n",
      "elements type =  <class 'list'>\n",
      "elements ['ETOPO1_Ice_g_gmt4.grd.gz', 'c241db385d89f3d0c22eec8138224db9f2ebee6a1b4d1ecb4ebc6a5743a28ec8', 'https://www.ngdc.noaa.gov/mgg/global/relief/ETOPO1/data/ice_surface/grid_registered/netcdf/ETOPO1_Ice_g_gmt4.grd.gz']\n",
      "linenum,line 1 ETOPO1_Bed_g_gmt4.grd.gz e5dd1e07c9039a966096d658976145b34a7006613ba32c7e898d26dd1dd3e1d9 https://www.ngdc.noaa.gov/mgg/global/relief/ETOPO1/data/bedrock/grid_registered/netcdf/ETOPO1_Bed_g_gmt4.grd.gz\n",
      "\n",
      "elements type =  <class 'list'>\n",
      "elements ['ETOPO1_Bed_g_gmt4.grd.gz', 'e5dd1e07c9039a966096d658976145b34a7006613ba32c7e898d26dd1dd3e1d9', 'https://www.ngdc.noaa.gov/mgg/global/relief/ETOPO1/data/bedrock/grid_registered/netcdf/ETOPO1_Bed_g_gmt4.grd.gz']\n",
      "linenum,line 2 PREM_1s.csv 71e5d8883e5ee0529c7d8f02c8e68d12c350e993bdbd106a3697c64fa3bf9faa https://ds.iris.edu/files/products/emc/data/PREM/PREM_1s.csv\n",
      "\n",
      "elements type =  <class 'list'>\n",
      "elements ['PREM_1s.csv', '71e5d8883e5ee0529c7d8f02c8e68d12c350e993bdbd106a3697c64fa3bf9faa', 'https://ds.iris.edu/files/products/emc/data/PREM/PREM_1s.csv']\n",
      "linenum,line 3 bedmap2_tiff.zip f4bb27ce05197e9d29e4249d64a947b93aab264c3b4e6cbf49d6b339fb6c67fe https://secure.antarctica.ac.uk/data/bedmap2/bedmap2_tiff.zip\n",
      "\n",
      "elements type =  <class 'list'>\n",
      "elements ['bedmap2_tiff.zip', 'f4bb27ce05197e9d29e4249d64a947b93aab264c3b4e6cbf49d6b339fb6c67fe', 'https://secure.antarctica.ac.uk/data/bedmap2/bedmap2_tiff.zip']\n",
      "linenum,line 4 age.3.2.nc.bz2 49003831db78f7bb044532daf31fdc49218f75876668ee0c96877f383214b827 https://www.ngdc.noaa.gov/mgg/ocean_age/data/2008/grids/age/age.3.2.nc.bz2\n",
      "\n",
      "elements type =  <class 'list'>\n",
      "elements ['age.3.2.nc.bz2', '49003831db78f7bb044532daf31fdc49218f75876668ee0c96877f383214b827', 'https://www.ngdc.noaa.gov/mgg/ocean_age/data/2008/grids/age/age.3.2.nc.bz2']\n",
      "linenum,line 5 age.3.6.nc.bz2 c99358e4a980be15f05df71506d9337dc760d32e5907f9526bc8135224fc1f81 https://www.ngdc.noaa.gov/mgg/ocean_age/data/2008/grids/age/age.3.6.nc.bz2\n",
      "\n",
      "elements type =  <class 'list'>\n",
      "elements ['age.3.6.nc.bz2', 'c99358e4a980be15f05df71506d9337dc760d32e5907f9526bc8135224fc1f81', 'https://www.ngdc.noaa.gov/mgg/ocean_age/data/2008/grids/age/age.3.6.nc.bz2']\n",
      "linenum,line 6 ageerror.3.2.nc.bz2 fd599a02488912e6d3bc53fc1e658f3d116a893201c0c9fb5e496c4020279a35 https://www.ngdc.noaa.gov/mgg/ocean_age/data/2008/grids/age_error/ageerror.3.2.nc.bz2\n",
      "\n",
      "elements type =  <class 'list'>\n",
      "elements ['ageerror.3.2.nc.bz2', 'fd599a02488912e6d3bc53fc1e658f3d116a893201c0c9fb5e496c4020279a35', 'https://www.ngdc.noaa.gov/mgg/ocean_age/data/2008/grids/age_error/ageerror.3.2.nc.bz2']\n",
      "linenum,line 7 ageerror.3.6.nc.bz2 15a2542717d30f24feeb2ea9d5d73d754b30a3fc92bbf1b704b3ba23d2766d1b https://www.ngdc.noaa.gov/mgg/ocean_age/data/2008/grids/age_error/ageerror.3.6.nc.bz2\n",
      "\n",
      "elements type =  <class 'list'>\n",
      "elements ['ageerror.3.6.nc.bz2', '15a2542717d30f24feeb2ea9d5d73d754b30a3fc92bbf1b704b3ba23d2766d1b', 'https://www.ngdc.noaa.gov/mgg/ocean_age/data/2008/grids/age_error/ageerror.3.6.nc.bz2']\n",
      "linenum,line 8 mcmurry_facies_dataframe.h5.zip 367d7de144d430cb014db04281092fa3179c122e3396cdd111008f6885f9fe0c https://github.com/JustinGOSSES/McMurray-Wabiskaw-preprocessed-datasets/raw/master/processed_datasets/mcmurry_facies_dataframe.h5.zip\n",
      "elements type =  <class 'list'>\n",
      "elements ['mcmurry_facies_dataframe.h5.zip', '367d7de144d430cb014db04281092fa3179c122e3396cdd111008f6885f9fe0c', 'https://github.com/JustinGOSSES/McMurray-Wabiskaw-preprocessed-datasets/raw/master/processed_datasets/mcmurry_facies_dataframe.h5.zip']\n"
     ]
    }
   ],
   "source": [
    "import rockhound as rh"
   ]
  },
  {
   "cell_type": "code",
   "execution_count": 4,
   "metadata": {},
   "outputs": [
    {
     "name": "stdout",
     "output_type": "stream",
     "text": [
      "Python 3.7.3\r\n"
     ]
    }
   ],
   "source": [
    "!python --version"
   ]
  },
  {
   "cell_type": "code",
   "execution_count": 5,
   "metadata": {},
   "outputs": [],
   "source": [
    "import rockhound as rh\n",
    "import matplotlib.pyplot as plt"
   ]
  },
  {
   "cell_type": "code",
   "execution_count": 10,
   "metadata": {},
   "outputs": [
    {
     "ename": "ValueError",
     "evalue": "File 'mcmurray_facies_dataframe.h5.zip' is not in the registry.",
     "output_type": "error",
     "traceback": [
      "\u001b[0;31m---------------------------------------------------------------------------\u001b[0m",
      "\u001b[0;31mValueError\u001b[0m                                Traceback (most recent call last)",
      "\u001b[0;32m<ipython-input-10-4370b1ba8f2e>\u001b[0m in \u001b[0;36m<module>\u001b[0;34m\u001b[0m\n\u001b[0;32m----> 1\u001b[0;31m \u001b[0mdata\u001b[0m \u001b[0;34m=\u001b[0m \u001b[0mrh\u001b[0m\u001b[0;34m.\u001b[0m\u001b[0mfetch_mcmurray_facies\u001b[0m\u001b[0;34m(\u001b[0m\u001b[0;34m)\u001b[0m\u001b[0;34m\u001b[0m\u001b[0;34m\u001b[0m\u001b[0m\n\u001b[0m",
      "\u001b[0;32m~/Code/rockhound/rockhound/mcmurray_facies.py\u001b[0m in \u001b[0;36mfetch_mcmurray_facies\u001b[0;34m(load)\u001b[0m\n\u001b[1;32m     76\u001b[0m     \"\"\"\n\u001b[1;32m     77\u001b[0m \u001b[0;34m\u001b[0m\u001b[0m\n\u001b[0;32m---> 78\u001b[0;31m     \u001b[0mfname\u001b[0m \u001b[0;34m=\u001b[0m \u001b[0mREGISTRY\u001b[0m\u001b[0;34m.\u001b[0m\u001b[0mfetch\u001b[0m\u001b[0;34m(\u001b[0m\u001b[0;34m\"mcmurray_facies_dataframe.h5.zip\"\u001b[0m\u001b[0;34m,\u001b[0m \u001b[0mprocessor\u001b[0m\u001b[0;34m=\u001b[0m\u001b[0mUnzip\u001b[0m\u001b[0;34m(\u001b[0m\u001b[0;34m)\u001b[0m\u001b[0;34m)\u001b[0m\u001b[0;34m\u001b[0m\u001b[0;34m\u001b[0m\u001b[0m\n\u001b[0m\u001b[1;32m     79\u001b[0m     \u001b[0;32mif\u001b[0m \u001b[0;32mnot\u001b[0m \u001b[0mload\u001b[0m\u001b[0;34m:\u001b[0m\u001b[0;34m\u001b[0m\u001b[0;34m\u001b[0m\u001b[0m\n\u001b[1;32m     80\u001b[0m         \u001b[0;32mreturn\u001b[0m \u001b[0mfname\u001b[0m\u001b[0;34m\u001b[0m\u001b[0;34m\u001b[0m\u001b[0m\n",
      "\u001b[0;32m~/anaconda/envs/rockhound/lib/python3.7/site-packages/pooch-0.5.1-py3.7.egg/pooch/core.py\u001b[0m in \u001b[0;36mfetch\u001b[0;34m(self, fname, processor, downloader)\u001b[0m\n\u001b[1;32m    330\u001b[0m \u001b[0;34m\u001b[0m\u001b[0m\n\u001b[1;32m    331\u001b[0m         \"\"\"\n\u001b[0;32m--> 332\u001b[0;31m         \u001b[0mself\u001b[0m\u001b[0;34m.\u001b[0m\u001b[0m_assert_file_in_registry\u001b[0m\u001b[0;34m(\u001b[0m\u001b[0mfname\u001b[0m\u001b[0;34m)\u001b[0m\u001b[0;34m\u001b[0m\u001b[0;34m\u001b[0m\u001b[0m\n\u001b[0m\u001b[1;32m    333\u001b[0m \u001b[0;34m\u001b[0m\u001b[0m\n\u001b[1;32m    334\u001b[0m         \u001b[0;31m# Create the local data directory if it doesn't already exist\u001b[0m\u001b[0;34m\u001b[0m\u001b[0;34m\u001b[0m\u001b[0;34m\u001b[0m\u001b[0m\n",
      "\u001b[0;32m~/anaconda/envs/rockhound/lib/python3.7/site-packages/pooch-0.5.1-py3.7.egg/pooch/core.py\u001b[0m in \u001b[0;36m_assert_file_in_registry\u001b[0;34m(self, fname)\u001b[0m\n\u001b[1;32m    382\u001b[0m         \"\"\"\n\u001b[1;32m    383\u001b[0m         \u001b[0;32mif\u001b[0m \u001b[0mfname\u001b[0m \u001b[0;32mnot\u001b[0m \u001b[0;32min\u001b[0m \u001b[0mself\u001b[0m\u001b[0;34m.\u001b[0m\u001b[0mregistry\u001b[0m\u001b[0;34m:\u001b[0m\u001b[0;34m\u001b[0m\u001b[0;34m\u001b[0m\u001b[0m\n\u001b[0;32m--> 384\u001b[0;31m             \u001b[0;32mraise\u001b[0m \u001b[0mValueError\u001b[0m\u001b[0;34m(\u001b[0m\u001b[0;34m\"File '{}' is not in the registry.\"\u001b[0m\u001b[0;34m.\u001b[0m\u001b[0mformat\u001b[0m\u001b[0;34m(\u001b[0m\u001b[0mfname\u001b[0m\u001b[0;34m)\u001b[0m\u001b[0;34m)\u001b[0m\u001b[0;34m\u001b[0m\u001b[0;34m\u001b[0m\u001b[0m\n\u001b[0m\u001b[1;32m    385\u001b[0m \u001b[0;34m\u001b[0m\u001b[0m\n\u001b[1;32m    386\u001b[0m     \u001b[0;32mdef\u001b[0m \u001b[0mget_url\u001b[0m\u001b[0;34m(\u001b[0m\u001b[0mself\u001b[0m\u001b[0;34m,\u001b[0m \u001b[0mfname\u001b[0m\u001b[0;34m)\u001b[0m\u001b[0;34m:\u001b[0m\u001b[0;34m\u001b[0m\u001b[0;34m\u001b[0m\u001b[0m\n",
      "\u001b[0;31mValueError\u001b[0m: File 'mcmurray_facies_dataframe.h5.zip' is not in the registry."
     ]
    }
   ],
   "source": [
    "data = rh.fetch_mcmurray_facies()"
   ]
  },
  {
   "cell_type": "code",
   "execution_count": 7,
   "metadata": {},
   "outputs": [
    {
     "data": {
      "text/html": [
       "<div>\n",
       "<style scoped>\n",
       "    .dataframe tbody tr th:only-of-type {\n",
       "        vertical-align: middle;\n",
       "    }\n",
       "\n",
       "    .dataframe tbody tr th {\n",
       "        vertical-align: top;\n",
       "    }\n",
       "\n",
       "    .dataframe thead th {\n",
       "        text-align: right;\n",
       "    }\n",
       "</style>\n",
       "<table border=\"1\" class=\"dataframe\">\n",
       "  <thead>\n",
       "    <tr style=\"text-align: right;\">\n",
       "      <th></th>\n",
       "      <th>CALI</th>\n",
       "      <th>COND</th>\n",
       "      <th>DELT</th>\n",
       "      <th>DEPT</th>\n",
       "      <th>DPHI</th>\n",
       "      <th>DT</th>\n",
       "      <th>GR</th>\n",
       "      <th>ILD</th>\n",
       "      <th>ILM</th>\n",
       "      <th>NPHI</th>\n",
       "      <th>...</th>\n",
       "      <th>NN1_thickness</th>\n",
       "      <th>topTarget_Depth_predBy_NN1thick</th>\n",
       "      <th>diff_Top_Depth_Real_v_predBy_NN1thick</th>\n",
       "      <th>diff_TopTarget_DEPTH_v_rowDEPT</th>\n",
       "      <th>diff_TopHelper_DEPTH_v_rowDEPT</th>\n",
       "      <th>class_DistFrPick_TopTarget</th>\n",
       "      <th>class_DistFrPick_TopHelper</th>\n",
       "      <th>DistFrom_NN1ThickPredTopDepth_toRowDept</th>\n",
       "      <th>NewWell</th>\n",
       "      <th>LastBitWell</th>\n",
       "    </tr>\n",
       "  </thead>\n",
       "  <tbody>\n",
       "    <tr>\n",
       "      <th>0</th>\n",
       "      <td>167.003</td>\n",
       "      <td>NaN</td>\n",
       "      <td>NaN</td>\n",
       "      <td>149.602</td>\n",
       "      <td>0.227</td>\n",
       "      <td>NaN</td>\n",
       "      <td>102.473</td>\n",
       "      <td>0.000</td>\n",
       "      <td>NaN</td>\n",
       "      <td>0.460</td>\n",
       "      <td>...</td>\n",
       "      <td>25.0</td>\n",
       "      <td>359.66</td>\n",
       "      <td>18.29</td>\n",
       "      <td>228.348</td>\n",
       "      <td>235.058</td>\n",
       "      <td>0</td>\n",
       "      <td>0</td>\n",
       "      <td>210.058</td>\n",
       "      <td>True</td>\n",
       "      <td>False</td>\n",
       "    </tr>\n",
       "    <tr>\n",
       "      <th>1</th>\n",
       "      <td>199.159</td>\n",
       "      <td>NaN</td>\n",
       "      <td>NaN</td>\n",
       "      <td>149.852</td>\n",
       "      <td>0.263</td>\n",
       "      <td>NaN</td>\n",
       "      <td>122.589</td>\n",
       "      <td>4.202</td>\n",
       "      <td>NaN</td>\n",
       "      <td>0.550</td>\n",
       "      <td>...</td>\n",
       "      <td>25.0</td>\n",
       "      <td>359.66</td>\n",
       "      <td>18.29</td>\n",
       "      <td>228.098</td>\n",
       "      <td>234.808</td>\n",
       "      <td>0</td>\n",
       "      <td>0</td>\n",
       "      <td>209.808</td>\n",
       "      <td>False</td>\n",
       "      <td>False</td>\n",
       "    </tr>\n",
       "    <tr>\n",
       "      <th>2</th>\n",
       "      <td>200.496</td>\n",
       "      <td>NaN</td>\n",
       "      <td>NaN</td>\n",
       "      <td>150.102</td>\n",
       "      <td>0.252</td>\n",
       "      <td>NaN</td>\n",
       "      <td>120.196</td>\n",
       "      <td>4.643</td>\n",
       "      <td>NaN</td>\n",
       "      <td>0.537</td>\n",
       "      <td>...</td>\n",
       "      <td>25.0</td>\n",
       "      <td>359.66</td>\n",
       "      <td>18.29</td>\n",
       "      <td>227.848</td>\n",
       "      <td>234.558</td>\n",
       "      <td>0</td>\n",
       "      <td>0</td>\n",
       "      <td>209.558</td>\n",
       "      <td>False</td>\n",
       "      <td>False</td>\n",
       "    </tr>\n",
       "    <tr>\n",
       "      <th>3</th>\n",
       "      <td>203.933</td>\n",
       "      <td>NaN</td>\n",
       "      <td>NaN</td>\n",
       "      <td>150.352</td>\n",
       "      <td>0.244</td>\n",
       "      <td>NaN</td>\n",
       "      <td>115.975</td>\n",
       "      <td>5.280</td>\n",
       "      <td>NaN</td>\n",
       "      <td>0.513</td>\n",
       "      <td>...</td>\n",
       "      <td>25.0</td>\n",
       "      <td>359.66</td>\n",
       "      <td>18.29</td>\n",
       "      <td>227.598</td>\n",
       "      <td>234.308</td>\n",
       "      <td>0</td>\n",
       "      <td>0</td>\n",
       "      <td>209.308</td>\n",
       "      <td>False</td>\n",
       "      <td>False</td>\n",
       "    </tr>\n",
       "    <tr>\n",
       "      <th>4</th>\n",
       "      <td>203.664</td>\n",
       "      <td>NaN</td>\n",
       "      <td>NaN</td>\n",
       "      <td>150.602</td>\n",
       "      <td>0.240</td>\n",
       "      <td>NaN</td>\n",
       "      <td>109.271</td>\n",
       "      <td>6.592</td>\n",
       "      <td>NaN</td>\n",
       "      <td>0.487</td>\n",
       "      <td>...</td>\n",
       "      <td>25.0</td>\n",
       "      <td>359.66</td>\n",
       "      <td>18.29</td>\n",
       "      <td>227.348</td>\n",
       "      <td>234.058</td>\n",
       "      <td>0</td>\n",
       "      <td>0</td>\n",
       "      <td>209.058</td>\n",
       "      <td>False</td>\n",
       "      <td>False</td>\n",
       "    </tr>\n",
       "  </tbody>\n",
       "</table>\n",
       "<p>5 rows × 40 columns</p>\n",
       "</div>"
      ],
      "text/plain": [
       "      CALI  COND  DELT     DEPT   DPHI  DT       GR    ILD  ILM   NPHI  ...  \\\n",
       "0  167.003   NaN   NaN  149.602  0.227 NaN  102.473  0.000  NaN  0.460  ...   \n",
       "1  199.159   NaN   NaN  149.852  0.263 NaN  122.589  4.202  NaN  0.550  ...   \n",
       "2  200.496   NaN   NaN  150.102  0.252 NaN  120.196  4.643  NaN  0.537  ...   \n",
       "3  203.933   NaN   NaN  150.352  0.244 NaN  115.975  5.280  NaN  0.513  ...   \n",
       "4  203.664   NaN   NaN  150.602  0.240 NaN  109.271  6.592  NaN  0.487  ...   \n",
       "\n",
       "   NN1_thickness  topTarget_Depth_predBy_NN1thick  \\\n",
       "0           25.0                           359.66   \n",
       "1           25.0                           359.66   \n",
       "2           25.0                           359.66   \n",
       "3           25.0                           359.66   \n",
       "4           25.0                           359.66   \n",
       "\n",
       "   diff_Top_Depth_Real_v_predBy_NN1thick  diff_TopTarget_DEPTH_v_rowDEPT  \\\n",
       "0                                  18.29                         228.348   \n",
       "1                                  18.29                         228.098   \n",
       "2                                  18.29                         227.848   \n",
       "3                                  18.29                         227.598   \n",
       "4                                  18.29                         227.348   \n",
       "\n",
       "   diff_TopHelper_DEPTH_v_rowDEPT  class_DistFrPick_TopTarget  \\\n",
       "0                         235.058                           0   \n",
       "1                         234.808                           0   \n",
       "2                         234.558                           0   \n",
       "3                         234.308                           0   \n",
       "4                         234.058                           0   \n",
       "\n",
       "  class_DistFrPick_TopHelper DistFrom_NN1ThickPredTopDepth_toRowDept  NewWell  \\\n",
       "0                          0                                 210.058     True   \n",
       "1                          0                                 209.808    False   \n",
       "2                          0                                 209.558    False   \n",
       "3                          0                                 209.308    False   \n",
       "4                          0                                 209.058    False   \n",
       "\n",
       "   LastBitWell  \n",
       "0        False  \n",
       "1        False  \n",
       "2        False  \n",
       "3        False  \n",
       "4        False  \n",
       "\n",
       "[5 rows x 40 columns]"
      ]
     },
     "execution_count": 7,
     "metadata": {},
     "output_type": "execute_result"
    }
   ],
   "source": [
    "data.head()"
   ]
  },
  {
   "cell_type": "code",
   "execution_count": 9,
   "metadata": {},
   "outputs": [
    {
     "data": {
      "text/plain": [
       "Index(['CALI', 'COND', 'DELT', 'DEPT', 'DPHI', 'DT', 'GR', 'ILD', 'ILM',\n",
       "       'NPHI', 'PHID', 'RHOB', 'SFL', 'SFLU', 'SN', 'SP', 'UWI', 'trainOrTest',\n",
       "       'SitID', 'lat', 'lng', 'TopHelper_HorID', 'TopTarget_HorID',\n",
       "       'TopHelper_DEPTH', 'TopTarget_DEPTH', 'TopHelper_HorID_Qual',\n",
       "       'TopTarget_Qual', 'Neighbors_Obj', 'NN1_topTarget_DEPTH',\n",
       "       'NN1_TopHelper_DEPTH', 'NN1_thickness',\n",
       "       'topTarget_Depth_predBy_NN1thick',\n",
       "       'diff_Top_Depth_Real_v_predBy_NN1thick',\n",
       "       'diff_TopTarget_DEPTH_v_rowDEPT', 'diff_TopHelper_DEPTH_v_rowDEPT',\n",
       "       'class_DistFrPick_TopTarget', 'class_DistFrPick_TopHelper',\n",
       "       'DistFrom_NN1ThickPredTopDepth_toRowDept', 'NewWell', 'LastBitWell'],\n",
       "      dtype='object')"
      ]
     },
     "execution_count": 9,
     "metadata": {},
     "output_type": "execute_result"
    }
   ],
   "source": [
    "data.columns"
   ]
  },
  {
   "cell_type": "code",
   "execution_count": 12,
   "metadata": {},
   "outputs": [],
   "source": [
    "#import pandas as pd"
   ]
  },
  {
   "cell_type": "code",
   "execution_count": 8,
   "metadata": {},
   "outputs": [],
   "source": [
    "#data2 = pd.read_hdf('/Users/justingosses/Library/Caches/rockhound/mcmurray_facies_dataframe.h5.zip.unzip/mcmurray_facies_dataframe.h5')"
   ]
  },
  {
   "cell_type": "code",
   "execution_count": 14,
   "metadata": {},
   "outputs": [
    {
     "data": {
      "image/png": "[encoded data removed]",
      "text/plain": [
       "<Figure size 432x288 with 1 Axes>"
      ]
     },
     "metadata": {
      "needs_background": "light"
     },
     "output_type": "display_data"
    }
   ],
   "source": [
    "data.plot(kind='scatter',x='GR',y='DPHI',color='red')\n",
    "plt.show()"
   ]
  },
  {
   "cell_type": "code",
   "execution_count": 16,
   "metadata": {},
   "outputs": [
    {
     "data": {
      "image/png": "[encoded data removed]",
      "text/plain": [
       "<Figure size 432x288 with 1 Axes>"
      ]
     },
     "metadata": {
      "needs_background": "light"
     },
     "output_type": "display_data"
    }
   ],
   "source": [
    "data.plot(kind='scatter',x='GR',y='lng',color='red')\n",
    "plt.show()"
   ]
  },
  {
   "cell_type": "code",
   "execution_count": 17,
   "metadata": {},
   "outputs": [
    {
     "data": {
      "text/plain": [
       "1302634"
      ]
     },
     "execution_count": 17,
     "metadata": {},
     "output_type": "execute_result"
    }
   ],
   "source": [
    "len(data)"
   ]
  },
  {
   "cell_type": "code",
   "execution_count": null,
   "metadata": {},
   "outputs": [],
   "source": []
  },
  {
   "cell_type": "code",
   "execution_count": null,
   "metadata": {},
   "outputs": [],
   "source": []
  }
 ],
 "metadata": {
  "kernelspec": {
   "display_name": "Python 3",
   "language": "python",
   "name": "python3"
  },
  "language_info": {
   "codemirror_mode": {
    "name": "ipython",
    "version": 3
   },
   "file_extension": ".py",
   "mimetype": "text/x-python",
   "name": "python",
   "nbconvert_exporter": "python",
   "pygments_lexer": "ipython3",
   "version": "3.7.3"
  }
 },
 "nbformat": 4,
 "nbformat_minor": 2
}
